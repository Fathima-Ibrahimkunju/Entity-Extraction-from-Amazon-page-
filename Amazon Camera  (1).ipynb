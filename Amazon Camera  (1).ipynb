{
 "cells": [
  {
   "cell_type": "code",
   "execution_count": 21,
   "id": "cellular-panama",
   "metadata": {},
   "outputs": [],
   "source": [
    "# Importing libraries\n",
    "\n",
    "from bs4 import BeautifulSoup\n",
    "import requests\n",
    "import pandas as pd\n",
    "import numpy as np\n",
    "import csv\n"
   ]
  },
  {
   "cell_type": "code",
   "execution_count": 2,
   "id": "surprising-member",
   "metadata": {},
   "outputs": [],
   "source": [
    "def get_title(soup):\n",
    "    \n",
    "    try:\n",
    "        title = soup.find('span',attrs={'id':'productTitle'})\n",
    "        title_value = title.text\n",
    "        title_string = title_value.strip()\n",
    "    except AttributeError:\n",
    "        title_string = ''\n",
    "    return title_string"
   ]
  },
  {
   "cell_type": "code",
   "execution_count": 3,
   "id": "adjacent-martin",
   "metadata": {},
   "outputs": [],
   "source": [
    "def get_price(soup):\n",
    "    try:\n",
    "        price = soup.find('span',attrs={'class':'a-price-whole'})\n",
    "        price_value = price.text\n",
    "        price_str = price_value.strip()\n",
    "    except AttributeError:\n",
    "        price_str =''\n",
    "    return price_str"
   ]
  },
  {
   "cell_type": "code",
   "execution_count": 4,
   "id": "complex-member",
   "metadata": {},
   "outputs": [],
   "source": [
    "def get_rating(soup):\n",
    "    try:\n",
    "        rating = soup.find('span',attrs={'class':'a-icon-alt'})\n",
    "        ratingvalue = rating.text\n",
    "        rating_value=ratingvalue.replace('Out of 5 Stars','')\n",
    "        rating_str = rating_value.strip()\n",
    "    except AttributeError:\n",
    "        rating_str =''\n",
    "    return rating_str"
   ]
  },
  {
   "cell_type": "code",
   "execution_count": 5,
   "id": "split-equivalent",
   "metadata": {},
   "outputs": [],
   "source": [
    "def get_brand(soup):\n",
    "    try:\n",
    "        model = soup.find('tr',attrs = {'class':'a-spacing-small po-brand'})\n",
    "        Brand = model.text\n",
    "        brand_real = Brand.replace('Brand','')\n",
    "        brand_str = brand_real.strip()\n",
    "    except AttributeError:\n",
    "        brand_str = None\n",
    "    return brand_str"
   ]
  },
  {
   "cell_type": "code",
   "execution_count": 6,
   "id": "biological-peeing",
   "metadata": {},
   "outputs": [],
   "source": [
    "def get_model(soup):\n",
    "    try:\n",
    "        modelnames = soup.find('tr',attrs = {'class':'a-spacing-small po-model_name'})\n",
    "        modelname = modelnames.text\n",
    "        model_name = modelname.replace('Model Name','')\n",
    "        model_str = model_name.strip()\n",
    "    except AttributeError:\n",
    "        model_str = None\n",
    "    return model_str"
   ]
  },
  {
   "cell_type": "code",
   "execution_count": 7,
   "id": "directed-liverpool",
   "metadata": {},
   "outputs": [],
   "source": [
    "def get_colour(soup):\n",
    "    try:\n",
    "        modelcolour = soup.find('tr',attrs = {'class':'a-spacing-small po-color'})\n",
    "        colour = modelcolour.text\n",
    "        model_colour = colour.replace('Colour','')\n",
    "        colour_str = model_colour.strip()\n",
    "    except AttributeError:\n",
    "        colour_str = None\n",
    "    return colour_str"
   ]
  },
  {
   "cell_type": "code",
   "execution_count": 8,
   "id": "equipped-rabbit",
   "metadata": {},
   "outputs": [],
   "source": [
    "def get_size(soup):\n",
    "    try:\n",
    "        size= soup.find('tr',attrs = {'class':'a-spacing-small po-display.size'})\n",
    "        screensize= size.text\n",
    "        screen_size = screensize.replace('Screen Size','')\n",
    "        size_str = screen_size.strip()\n",
    "    except AttributeError:\n",
    "        size_str = None\n",
    "    return size_str"
   ]
  },
  {
   "cell_type": "code",
   "execution_count": 9,
   "id": "suspected-telescope",
   "metadata": {},
   "outputs": [],
   "source": [
    "def get_type(soup):\n",
    "    try:\n",
    "        typp= soup.find('tr',attrs = {'class':'a-spacing-small po-connectivity_technology'})\n",
    "        connector= typp.text\n",
    "        connector_type = connector.replace('Connector Type','')\n",
    "        connector_str = connector_type.strip()\n",
    "    except AttributeError:\n",
    "        connector_str = None\n",
    "    return connector_str"
   ]
  },
  {
   "cell_type": "code",
   "execution_count": 10,
   "id": "ceramic-organization",
   "metadata": {},
   "outputs": [],
   "source": [
    "def get_Resolution(soup):\n",
    "    try:\n",
    "        resolution= soup.find('tr',attrs = {'class':'a-spacing-small po-effective_still_resolution'})\n",
    "        stillresolution= resolution.text\n",
    "        still_resolution = stillresolution.replace('Effective Still Resolution','')\n",
    "        still_str = still_resolution.strip()\n",
    "    except AttributeError:\n",
    "        still_str = None\n",
    "    return still_str"
   ]
  },
  {
   "cell_type": "code",
   "execution_count": 11,
   "id": "operational-clearance",
   "metadata": {},
   "outputs": [],
   "source": [
    "def get_zoom(soup):\n",
    "    try:\n",
    "        zoom= soup.find('tr',attrs = {'class':'a-spacing-small po-optical_zoom'})\n",
    "        opticalzoom= zoom.text\n",
    "        optical_zoom =opticalzoom.replace('Optical Zoom','')\n",
    "        zoom_str = optical_zoom.strip()\n",
    "    except AttributeError:\n",
    "        zoom_str = None\n",
    "    return zoom_str"
   ]
  },
  {
   "cell_type": "code",
   "execution_count": null,
   "id": "hazardous-alcohol",
   "metadata": {},
   "outputs": [],
   "source": [
    "import request\n",
    "response = requests.get(url, params=params, stream=True)\n",
    "try:\n",
    "    for data in response.iter_content(chunk_size=1024)\n",
    "        print(data)\n",
    "except ChunkEncodingError as ex:\n",
    "    print(f\"Invalid chunk encoding {str(ex)}\")"
   ]
  },
  {
   "cell_type": "code",
   "execution_count": 24,
   "id": "continuing-forwarding",
   "metadata": {},
   "outputs": [],
   "source": [
    "d = {'Title':[], 'Price':[], 'Rating':[],'Brand':[],'Model Name':[],'Colour':[],'Screen Size':[],'Connector Type':[],'Still Resolution':[],'Optical Zoom':[]}\n",
    "Headers = ({'User-Agent':'Mozilla/5.0 (X11; Linux x86_64) AppleWebKit/537.36 (KHTML, like Gecko) Chrome/96.0.4664.45 Safari/537.36','Accept-Language':'en-US, en;q=0.5'})\n",
    "links_list = []\n",
    "for page in range(1,21):\n",
    "    url =\"https://www.amazon.in/s?k=digital+camera&page=\"+str(page)\n",
    "    req = requests.get(url, headers = Headers)\n",
    "    soup = BeautifulSoup(req.content, 'html.parser')\n",
    "    links = soup.find_all('a', attrs = {'class': 'a-link-normal s-underline-text s-underline-link-text s-link-style a-text-normal'})\n",
    "    for link in links:\n",
    "        links_list.append(link.get('href'))\n",
    "    "
   ]
  },
  {
   "cell_type": "code",
   "execution_count": 26,
   "id": "fourth-species",
   "metadata": {},
   "outputs": [],
   "source": [
    "# To remove duplicates\n",
    "\n",
    "links_final=list(set(links_list))"
   ]
  },
  {
   "cell_type": "code",
   "execution_count": 27,
   "id": "golden-masters",
   "metadata": {},
   "outputs": [
    {
     "name": "stdout",
     "output_type": "stream",
     "text": [
      "65\n"
     ]
    }
   ],
   "source": [
    "print(len(links_list))"
   ]
  },
  {
   "cell_type": "code",
   "execution_count": 28,
   "id": "stone-malaysia",
   "metadata": {},
   "outputs": [],
   "source": [
    "for link in links_final:\n",
    "    new_web = requests.get('https://www.amazon.in'+str(link), headers=Headers)\n",
    "    new_soup = BeautifulSoup(new_web.content, 'html.parser')\n",
    "    \n",
    "    d['Title'].append(get_title(new_soup))\n",
    "    d['Price'].append(get_price(new_soup))\n",
    "    d['Rating'].append(get_rating(new_soup))\n",
    "    d['Brand'].append(get_brand(new_soup))\n",
    "    d['Model Name'].append(get_model(new_soup))\n",
    "    d['Colour'].append(get_colour(new_soup))\n",
    "    d['Screen Size'].append(get_size(new_soup))\n",
    "    d['Connector Type'].append(get_type(new_soup))\n",
    "    d['Still Resolution'].append(get_Resolution(new_soup))\n",
    "    d['Optical Zoom'].append(get_zoom(new_soup))  "
   ]
  },
  {
   "cell_type": "code",
   "execution_count": null,
   "id": "electoral-consultation",
   "metadata": {},
   "outputs": [],
   "source": [
    "df = pd.DataFrame.from_dict(d)\n",
    "\n",
    "#Data Frame\n",
    "df"
   ]
  },
  {
   "cell_type": "code",
   "execution_count": null,
   "id": "composite-explorer",
   "metadata": {},
   "outputs": [],
   "source": [
    "json= df.to_json('camera.json')"
   ]
  }
 ],
 "metadata": {
  "kernelspec": {
   "display_name": "Python 3",
   "language": "python",
   "name": "python3"
  },
  "language_info": {
   "codemirror_mode": {
    "name": "ipython",
    "version": 3
   },
   "file_extension": ".py",
   "mimetype": "text/x-python",
   "name": "python",
   "nbconvert_exporter": "python",
   "pygments_lexer": "ipython3",
   "version": "3.8.10"
  }
 },
 "nbformat": 4,
 "nbformat_minor": 5
}
