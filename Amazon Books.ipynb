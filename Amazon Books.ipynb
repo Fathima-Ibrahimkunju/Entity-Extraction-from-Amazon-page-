{
 "cells": [
  {
   "cell_type": "code",
   "execution_count": 1,
   "id": "tropical-split",
   "metadata": {},
   "outputs": [],
   "source": [
    "from bs4 import BeautifulSoup\n",
    "import requests\n",
    "import pandas as pd\n",
    "import numpy as np\n",
    "import csv"
   ]
  },
  {
   "cell_type": "code",
   "execution_count": 2,
   "id": "aware-madagascar",
   "metadata": {},
   "outputs": [],
   "source": [
    "def get_title(soup):\n",
    "    \n",
    "    try:\n",
    "        title = soup.find('span',attrs={'id':'productTitle'})\n",
    "        title_value = title.text\n",
    "        title_string = title_value.strip()\n",
    "    except AttributeError:\n",
    "        title_string = ''\n",
    "    return "
   ]
  },
  {
   "cell_type": "code",
   "execution_count": 3,
   "id": "incorrect-store",
   "metadata": {},
   "outputs": [],
   "source": [
    "def get_author(soup):\n",
    "    \n",
    "    try:\n",
    "        author= soup.find('span',attrs={'class':'author notFaded'})\n",
    "        authorvalue=author.text\n",
    "        author_value = authorvalue.replace('Author','')\n",
    "        author_string = author_value.strip()\n",
    "    except AttributeError:\n",
    "        author_string = ''\n",
    "    return "
   ]
  },
  {
   "cell_type": "code",
   "execution_count": 4,
   "id": "handled-production",
   "metadata": {},
   "outputs": [],
   "source": [
    "def get_price(soup):\n",
    "    \n",
    "    try:\n",
    "        price= soup.find('span',attrs={'class':'author notFaded'})\n",
    "        pricevalue=price.text\n",
    "        price_value = pricevalue.replace('Author','')\n",
    "        price_string = price_value.strip()\n",
    "    except AttributeError:\n",
    "        price_string = ''\n",
    "    return "
   ]
  },
  {
   "cell_type": "code",
   "execution_count": 5,
   "id": "assured-mumbai",
   "metadata": {},
   "outputs": [],
   "source": [
    "def get_language(soup):\n",
    "    \n",
    "    try:\n",
    "        language= soup.find('span',attrs={'class':'a-list-item'})\n",
    "        languagevalue=language.text\n",
    "        language_value = languagevalue.replace('Languge :','')\n",
    "        language_string = language_value.strip()\n",
    "    except AttributeError:\n",
    "        language_string = ''\n",
    "    return "
   ]
  },
  {
   "cell_type": "code",
   "execution_count": 6,
   "id": "accompanied-resolution",
   "metadata": {},
   "outputs": [],
   "source": [
    "def get_publisher(soup):\n",
    "    \n",
    "    try:\n",
    "        publisher= soup.find('span',attrs={'class':'a-list-item'})\n",
    "        publishervalue=publisher.text\n",
    "        publisher_value = publishervalue.replace('Languge :','')\n",
    "        language_string = publisher_value.strip()\n",
    "    except AttributeError:\n",
    "        publisher_string = ''\n",
    "    return "
   ]
  },
  {
   "cell_type": "code",
   "execution_count": 7,
   "id": "purple-overhead",
   "metadata": {},
   "outputs": [],
   "source": [
    "def get_rating(soup):\n",
    "    \n",
    "    try:\n",
    "        rating= soup.find('span',attrs={'class':'a-icon-alt'})\n",
    "        rate_value = rating.text\n",
    "        rating_string = rate_value.strip()\n",
    "    except AttributeError:\n",
    "        rating_string = ''\n",
    "    return "
   ]
  },
  {
   "cell_type": "code",
   "execution_count": 8,
   "id": "serial-livestock",
   "metadata": {},
   "outputs": [],
   "source": [
    "def get_pages(soup):\n",
    "    \n",
    "    try:\n",
    "        pages= soup.find('span',attrs={'class':'a-list-item'})\n",
    "        pagevalue = pages.text\n",
    "        pages_value=pagevalue.replace('Paperback :','')\n",
    "        pages_string = pages_value.strip()\n",
    "    except AttributeError:\n",
    "        pages_string = ''\n",
    "    return "
   ]
  },
  {
   "cell_type": "code",
   "execution_count": 9,
   "id": "completed-innocent",
   "metadata": {},
   "outputs": [],
   "source": [
    "d = {'Title':[], 'Author':[],'Price':[],'Publisher':[], 'Language':[],'Rating':[],'Pages':[]}\n",
    "Headers = ({'User-Agent':'Mozilla/5.0 (X11; Linux x86_64) AppleWebKit/537.36 (KHTML, like Gecko) Chrome/96.0.4664.45 Safari/537.36','Accept-Language':'en-US, en;q=0.5'})\n",
    "links_list = []\n",
    "for page in range(1,21):\n",
    "    url =\"https://www.amazon.in/s?k=books&page=\"+str(page)\n",
    "    req = requests.get(url, headers = Headers)\n",
    "    soup = BeautifulSoup(req.content, 'html.parser')\n",
    "    links = soup.find_all('a', attrs = {'class': 'a-link-normal s-underline-text s-underline-link-text s-link-style a-text-normal'})\n",
    "    for link in links:\n",
    "        links_list.append(link.get('href'))\n",
    "    "
   ]
  },
  {
   "cell_type": "code",
   "execution_count": 10,
   "id": "contrary-liverpool",
   "metadata": {},
   "outputs": [],
   "source": [
    "# To remove duplicates\n",
    "\n",
    "links_final=list(set(links_list))"
   ]
  },
  {
   "cell_type": "code",
   "execution_count": 16,
   "id": "mounted-newfoundland",
   "metadata": {},
   "outputs": [],
   "source": [
    "# To find the total number of links\n",
    "\n",
    "print(len(links_final))"
   ]
  },
  {
   "cell_type": "code",
   "execution_count": 12,
   "id": "frozen-seeking",
   "metadata": {},
   "outputs": [],
   "source": [
    "for link in links_final:\n",
    "    new_web = requests.get('https://www.amazon.in'+str(link), headers=Headers)\n",
    "    new_soup = BeautifulSoup(new_web.content, 'html.parser')\n",
    "    \n",
    "    d['Title'].append(get_title(new_soup))\n",
    "    d['Author'].append(get_author(new_soup))\n",
    "    d['Price'].append(get_price(new_soup))\n",
    "    d['Publisher'].append(get_publisher(new_soup))\n",
    "    d['Language'].append(get_language(new_soup))\n",
    "    d['Rating'].append(get_rating(new_soup))\n",
    "    d['Pages'].append(get_pages(new_soup))\n",
    "    "
   ]
  },
  {
   "cell_type": "code",
   "execution_count": 15,
   "id": "directed-sphere",
   "metadata": {},
   "outputs": [],
   "source": [
    "bdf = pd.DataFrame.from_dict(d)\n",
    "\n",
    "#Data Frame\n",
    "bdf"
   ]
  },
  {
   "cell_type": "code",
   "execution_count": null,
   "id": "sensitive-debut",
   "metadata": {},
   "outputs": [],
   "source": [
    "json= df.to_json('Book.json')"
   ]
  }
 ],
 "metadata": {
  "kernelspec": {
   "display_name": "Python 3",
   "language": "python",
   "name": "python3"
  },
  "language_info": {
   "codemirror_mode": {
    "name": "ipython",
    "version": 3
   },
   "file_extension": ".py",
   "mimetype": "text/x-python",
   "name": "python",
   "nbconvert_exporter": "python",
   "pygments_lexer": "ipython3",
   "version": "3.8.10"
  }
 },
 "nbformat": 4,
 "nbformat_minor": 5
}
