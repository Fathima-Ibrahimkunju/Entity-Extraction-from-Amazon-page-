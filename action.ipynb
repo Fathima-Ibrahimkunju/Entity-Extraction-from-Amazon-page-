{
 "cells": [
  {
   "cell_type": "code",
   "execution_count": null,
   "metadata": {},
   "outputs": [],
   "source": [
    "import csv\n",
    "from typing import Dict, Any, Text, List, Union\n",
    "from rasa_sdk import Action, Tracker\n",
    "from rasa_sdk.executor import CollectingDispatcher\n",
    "from rasa_sdk.events import SlotSet\n",
    "\n",
    "class ActionGetLaptopsBelowPrice(Action):\n",
    "    \n",
    "    def name(self) -> Text:\n",
    "        return \"action_hello_world\"\n",
    "\n",
    "    def run(self, dispatcher: CollectingDispatcher,\n",
    "            tracker: Tracker,\n",
    "            domain: Dict[Text, Any]) -> List[Dict[Text, Any]]:\n",
    "\n",
    "        price = tracker.get_slot('price')\n",
    "        range = tracker.get_slot('range')\n",
    "        laptops = []\n",
    "        with open(\"/home/futures/chatbot/actions/laptops.csv\") as file:\n",
    "            reader = csv.DictReader(file)\n",
    "            for row in reader:\n",
    "                if range == 'below':\n",
    "                    if row[\"Price\"].replace(\",\", \"\") < price:\n",
    "                        laptops.append(row[\"Name\"])\n",
    "                else:\n",
    "                    if row[\"Price\"].replace(\",\", \"\") > price:\n",
    "                        laptops.append(row[\"Name\"])  \n",
    "        if laptops:\n",
    "            message = f\"The following laptops have a price below {price} Rs.: \"\n",
    "            for i, laptop in enumerate(laptops[:10]):\n",
    "                message += f\"\\n{i+1}. {laptop}\"\n",
    "            dispatcher.utter_message(message)\n",
    "        else:\n",
    "            message = f\"There are no laptops in this price range\"\n",
    "            dispatcher.utter_message(message)\n",
    "\n",
    "        return []\n"
   ]
  }
 ],
 "metadata": {
  "kernelspec": {
   "display_name": "Python 3",
   "language": "python",
   "name": "python3"
  },
  "language_info": {
   "codemirror_mode": {
    "name": "ipython",
    "version": 3
   },
   "file_extension": ".py",
   "mimetype": "text/x-python",
   "name": "python",
   "nbconvert_exporter": "python",
   "pygments_lexer": "ipython3",
   "version": "3.7.6"
  }
 },
 "nbformat": 4,
 "nbformat_minor": 4
}
